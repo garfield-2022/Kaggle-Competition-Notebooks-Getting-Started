{
 "cells": [
  {
   "cell_type": "markdown",
   "metadata": {},
   "source": [
    "Kaggle competition Digit Recognizer https://www.kaggle.com/competitions/digit-recognizer/overview\n",
    "\n",
    "Public score: 0.98946."
   ]
  },
  {
   "cell_type": "markdown",
   "metadata": {},
   "source": [
    "Because the simple layer approach brings overfitting https://www.kaggle.com/code/garfield2021/digit-recognizer-keras-simple-layers/notebook, I use convnet method in this notebook. The test accurary is ~0.989, beating ~0.97 from simple layers.\n",
    "\n",
    "You can check out other convnet structures in YASSINE GHOUZAM's Introduction to CNN Keras - 0.997 (top 6%) https://www.kaggle.com/code/yassineghouzam/introduction-to-cnn-keras-0-997-top-6 and CANIP PAÇACI MNIST Digit Recognizer Easy %99.5 Accuracy https://www.kaggle.com/code/canippacaci/mnist-digit-recognizer-easy-99-5-accuracy.\n",
    "\n",
    "Other main references include Deep Learning with Python by François Chollet."
   ]
  },
  {
   "cell_type": "code",
   "execution_count": null,
   "metadata": {
    "execution": {
     "iopub.execute_input": "2024-04-04T15:37:11.053528Z",
     "iopub.status.busy": "2024-04-04T15:37:11.053050Z",
     "iopub.status.idle": "2024-04-04T15:37:11.059299Z",
     "shell.execute_reply": "2024-04-04T15:37:11.058289Z",
     "shell.execute_reply.started": "2024-04-04T15:37:11.053488Z"
    }
   },
   "outputs": [],
   "source": [
    "import pandas as pd\n",
    "import numpy as np\n",
    "import seaborn as sns\n",
    "import matplotlib.pyplot as plt\n",
    "\n",
    "from sklearn.model_selection import train_test_split\n",
    "\n",
    "from tensorflow import keras\n",
    "from keras import Input, Model\n",
    "from keras.utils import to_categorical\n",
    "from keras.layers import Dense, Dropout, Flatten, Conv2D, MaxPooling2D"
   ]
  },
  {
   "cell_type": "markdown",
   "metadata": {},
   "source": [
    "# 1. Load data"
   ]
  },
  {
   "cell_type": "code",
   "execution_count": null,
   "metadata": {
    "execution": {
     "iopub.execute_input": "2024-04-04T14:55:55.763611Z",
     "iopub.status.busy": "2024-04-04T14:55:55.762856Z",
     "iopub.status.idle": "2024-04-04T14:56:01.138943Z",
     "shell.execute_reply": "2024-04-04T14:56:01.137923Z",
     "shell.execute_reply.started": "2024-04-04T14:55:55.763577Z"
    }
   },
   "outputs": [],
   "source": [
    "# Load the train and test datasets.\n",
    "train = pd.read_csv('/kaggle/input/digit-recognizer/train.csv')\n",
    "test = pd.read_csv('/kaggle/input/digit-recognizer/test.csv')"
   ]
  },
  {
   "cell_type": "code",
   "execution_count": null,
   "metadata": {
    "execution": {
     "iopub.execute_input": "2024-04-04T14:56:01.140539Z",
     "iopub.status.busy": "2024-04-04T14:56:01.140217Z",
     "iopub.status.idle": "2024-04-04T14:56:01.224354Z",
     "shell.execute_reply": "2024-04-04T14:56:01.223563Z",
     "shell.execute_reply.started": "2024-04-04T14:56:01.140513Z"
    }
   },
   "outputs": [],
   "source": [
    "Y_train = train[\"label\"]\n",
    "X_train = train.drop(labels=[\"label\"], axis=1)\n",
    "\n",
    "del train"
   ]
  },
  {
   "cell_type": "code",
   "execution_count": null,
   "metadata": {
    "execution": {
     "iopub.execute_input": "2024-04-04T14:56:01.226685Z",
     "iopub.status.busy": "2024-04-04T14:56:01.226403Z",
     "iopub.status.idle": "2024-04-04T14:56:01.604718Z",
     "shell.execute_reply": "2024-04-04T14:56:01.603809Z",
     "shell.execute_reply.started": "2024-04-04T14:56:01.226661Z"
    }
   },
   "outputs": [],
   "source": [
    "# The count distribution for 10 digits are close to uniform.\n",
    "g = sns.histplot(data=Y_train)\n",
    "Y_train.value_counts()"
   ]
  },
  {
   "cell_type": "code",
   "execution_count": null,
   "metadata": {
    "execution": {
     "iopub.execute_input": "2024-04-04T14:56:01.606372Z",
     "iopub.status.busy": "2024-04-04T14:56:01.606104Z",
     "iopub.status.idle": "2024-04-04T14:56:01.624240Z",
     "shell.execute_reply": "2024-04-04T14:56:01.623340Z",
     "shell.execute_reply.started": "2024-04-04T14:56:01.606349Z"
    }
   },
   "outputs": [],
   "source": [
    "# No missing values.\n",
    "X_train.isnull().any().describe()"
   ]
  },
  {
   "cell_type": "code",
   "execution_count": null,
   "metadata": {
    "execution": {
     "iopub.execute_input": "2024-04-04T14:56:01.625599Z",
     "iopub.status.busy": "2024-04-04T14:56:01.625341Z",
     "iopub.status.idle": "2024-04-04T14:56:01.637732Z",
     "shell.execute_reply": "2024-04-04T14:56:01.636799Z",
     "shell.execute_reply.started": "2024-04-04T14:56:01.625577Z"
    }
   },
   "outputs": [],
   "source": [
    "test.isnull().any().describe()"
   ]
  },
  {
   "cell_type": "code",
   "execution_count": null,
   "metadata": {
    "execution": {
     "iopub.execute_input": "2024-04-04T14:56:01.639127Z",
     "iopub.status.busy": "2024-04-04T14:56:01.638852Z",
     "iopub.status.idle": "2024-04-04T14:56:01.644327Z",
     "shell.execute_reply": "2024-04-04T14:56:01.643314Z",
     "shell.execute_reply.started": "2024-04-04T14:56:01.639105Z"
    }
   },
   "outputs": [],
   "source": [
    "print(\"X_train shape: \", X_train.shape)\n",
    "print(\"Y_train shape: \", Y_train.shape)\n",
    "print(\"test shape: \", test.shape)"
   ]
  },
  {
   "cell_type": "markdown",
   "metadata": {},
   "source": [
    "# 2. Normalize and reshape"
   ]
  },
  {
   "cell_type": "code",
   "execution_count": null,
   "metadata": {
    "execution": {
     "iopub.execute_input": "2024-04-04T14:56:34.611261Z",
     "iopub.status.busy": "2024-04-04T14:56:34.610414Z",
     "iopub.status.idle": "2024-04-04T14:56:34.703656Z",
     "shell.execute_reply": "2024-04-04T14:56:34.702785Z",
     "shell.execute_reply.started": "2024-04-04T14:56:34.611229Z"
    }
   },
   "outputs": [],
   "source": [
    "X_train, test = X_train / 255.0, test / 255.0"
   ]
  },
  {
   "cell_type": "code",
   "execution_count": null,
   "metadata": {
    "execution": {
     "iopub.execute_input": "2024-04-04T14:56:36.509271Z",
     "iopub.status.busy": "2024-04-04T14:56:36.508935Z",
     "iopub.status.idle": "2024-04-04T14:56:36.514136Z",
     "shell.execute_reply": "2024-04-04T14:56:36.513154Z",
     "shell.execute_reply.started": "2024-04-04T14:56:36.509247Z"
    }
   },
   "outputs": [],
   "source": [
    "X_train = X_train.values.reshape(-1, 28, 28, 1)\n",
    "test = test.values.reshape(-1, 28, 28, 1)"
   ]
  },
  {
   "cell_type": "code",
   "execution_count": null,
   "metadata": {
    "execution": {
     "iopub.execute_input": "2024-04-04T14:56:37.995905Z",
     "iopub.status.busy": "2024-04-04T14:56:37.995174Z",
     "iopub.status.idle": "2024-04-04T14:56:38.001679Z",
     "shell.execute_reply": "2024-04-04T14:56:38.000725Z",
     "shell.execute_reply.started": "2024-04-04T14:56:37.995873Z"
    }
   },
   "outputs": [],
   "source": [
    "Y_train = to_categorical(Y_train, num_classes = 10)"
   ]
  },
  {
   "cell_type": "code",
   "execution_count": null,
   "metadata": {
    "execution": {
     "iopub.execute_input": "2024-04-04T14:57:01.375326Z",
     "iopub.status.busy": "2024-04-04T14:57:01.374463Z",
     "iopub.status.idle": "2024-04-04T14:57:01.766555Z",
     "shell.execute_reply": "2024-04-04T14:57:01.765757Z",
     "shell.execute_reply.started": "2024-04-04T14:57:01.375293Z"
    }
   },
   "outputs": [],
   "source": [
    "X_train, X_val, Y_train, Y_val = train_test_split(X_train, Y_train, test_size=0.25)"
   ]
  },
  {
   "cell_type": "code",
   "execution_count": null,
   "metadata": {
    "execution": {
     "iopub.execute_input": "2024-04-04T15:57:49.397996Z",
     "iopub.status.busy": "2024-04-04T15:57:49.397597Z",
     "iopub.status.idle": "2024-04-04T15:57:51.692684Z",
     "shell.execute_reply": "2024-04-04T15:57:51.691808Z",
     "shell.execute_reply.started": "2024-04-04T15:57:49.397964Z"
    }
   },
   "outputs": [],
   "source": [
    "fig = plt.figure(figsize = (11, 12))\n",
    "\n",
    "for i in range(16):  \n",
    "    plt.subplot(4,4,1 + i)\n",
    "    plt.title(np.argmax(Y_train[i]),fontname=\"Aptos\",fontweight=\"bold\")\n",
    "    plt.imshow(X_train[i,:,:,0], cmap=plt.get_cmap('gray'))\n",
    "plt.show()\n"
   ]
  },
  {
   "cell_type": "code",
   "execution_count": null,
   "metadata": {
    "execution": {
     "iopub.execute_input": "2024-04-04T14:57:08.623808Z",
     "iopub.status.busy": "2024-04-04T14:57:08.622982Z",
     "iopub.status.idle": "2024-04-04T14:57:08.628805Z",
     "shell.execute_reply": "2024-04-04T14:57:08.627818Z",
     "shell.execute_reply.started": "2024-04-04T14:57:08.623776Z"
    }
   },
   "outputs": [],
   "source": [
    "print(\"X_train shape: \", X_train.shape)\n",
    "print(\"Y_train shape: \", Y_train.shape)\n",
    "print(\"X_val shape: \", X_val.shape)\n",
    "print(\"Y_val shape: \", Y_val.shape)"
   ]
  },
  {
   "cell_type": "markdown",
   "metadata": {},
   "source": [
    "# 3. Build model"
   ]
  },
  {
   "cell_type": "code",
   "execution_count": null,
   "metadata": {
    "execution": {
     "iopub.execute_input": "2024-04-04T15:45:03.655518Z",
     "iopub.status.busy": "2024-04-04T15:45:03.654595Z",
     "iopub.status.idle": "2024-04-04T15:45:03.703267Z",
     "shell.execute_reply": "2024-04-04T15:45:03.702513Z",
     "shell.execute_reply.started": "2024-04-04T15:45:03.655482Z"
    }
   },
   "outputs": [],
   "source": [
    "inputs = Input(shape=(28,28,1))\n",
    "\n",
    "x = Conv2D(filters = 32, kernel_size = (3,3), activation ='relu')(inputs)\n",
    "x = MaxPooling2D(pool_size=2)(x)\n",
    "x = Dropout(0.2)(x)\n",
    "\n",
    "x = Conv2D(filters = 64, kernel_size = (3,3), activation ='relu')(x)\n",
    "x = MaxPooling2D(pool_size=2)(x)\n",
    "x = Dropout(0.2)(x)\n",
    "\n",
    "x = Conv2D(filters = 128, kernel_size = (3,3), activation ='relu')(x)\n",
    "x = Flatten()(x)\n",
    "\n",
    "outputs = Dense(10, activation = \"softmax\")(x)\n",
    "model = Model(inputs=inputs, outputs=outputs)"
   ]
  },
  {
   "cell_type": "code",
   "execution_count": null,
   "metadata": {
    "execution": {
     "iopub.execute_input": "2024-04-04T15:45:06.032639Z",
     "iopub.status.busy": "2024-04-04T15:45:06.031730Z",
     "iopub.status.idle": "2024-04-04T15:45:06.058557Z",
     "shell.execute_reply": "2024-04-04T15:45:06.057680Z",
     "shell.execute_reply.started": "2024-04-04T15:45:06.032605Z"
    }
   },
   "outputs": [],
   "source": [
    "model.summary()"
   ]
  },
  {
   "cell_type": "code",
   "execution_count": null,
   "metadata": {
    "execution": {
     "iopub.execute_input": "2024-04-04T15:45:09.870797Z",
     "iopub.status.busy": "2024-04-04T15:45:09.870168Z",
     "iopub.status.idle": "2024-04-04T15:45:09.878938Z",
     "shell.execute_reply": "2024-04-04T15:45:09.878025Z",
     "shell.execute_reply.started": "2024-04-04T15:45:09.870749Z"
    }
   },
   "outputs": [],
   "source": [
    "model.compile(optimizer='rmsprop', loss='categorical_crossentropy', metrics=['accuracy'])"
   ]
  },
  {
   "cell_type": "code",
   "execution_count": null,
   "metadata": {
    "execution": {
     "iopub.execute_input": "2024-04-04T15:45:11.756131Z",
     "iopub.status.busy": "2024-04-04T15:45:11.755735Z",
     "iopub.status.idle": "2024-04-04T15:45:34.452553Z",
     "shell.execute_reply": "2024-04-04T15:45:34.451608Z",
     "shell.execute_reply.started": "2024-04-04T15:45:11.756100Z"
    }
   },
   "outputs": [],
   "source": [
    "history = model.fit(\n",
    "    X_train, Y_train,\n",
    "    validation_data=(X_val, Y_val),\n",
    "    batch_size=64,\n",
    "    epochs=10\n",
    ")"
   ]
  },
  {
   "cell_type": "code",
   "execution_count": null,
   "metadata": {
    "execution": {
     "iopub.execute_input": "2024-04-04T15:45:34.455476Z",
     "iopub.status.busy": "2024-04-04T15:45:34.455167Z",
     "iopub.status.idle": "2024-04-04T15:45:34.916593Z",
     "shell.execute_reply": "2024-04-04T15:45:34.915715Z",
     "shell.execute_reply.started": "2024-04-04T15:45:34.455450Z"
    }
   },
   "outputs": [],
   "source": [
    "history_df = pd.DataFrame(history.history)\n",
    "\n",
    "history_df.loc[:, ['loss', 'val_loss']].plot(title=\"cross-entropy\")\n",
    "print(\"Minimum validation loss: {}\".format(history_df['val_loss'].min()))\n",
    "\n",
    "history_df.loc[:, ['accuracy', 'val_accuracy']].plot(title=\"accuracy\")\n",
    "print(\"Maximum validation accuracy: {}\".format(history_df['val_accuracy'].max()))"
   ]
  },
  {
   "cell_type": "markdown",
   "metadata": {},
   "source": [
    "# 4. Predict and Submit"
   ]
  },
  {
   "cell_type": "code",
   "execution_count": null,
   "metadata": {},
   "outputs": [],
   "source": [
    "# Make predicitons based on the model trained before.\n",
    "predictions = model.predict(test)"
   ]
  },
  {
   "cell_type": "code",
   "execution_count": null,
   "metadata": {},
   "outputs": [],
   "source": [
    "# Select the index with the maximum probability\n",
    "predictions = np.argmax(predictions,axis =1)"
   ]
  },
  {
   "cell_type": "code",
   "execution_count": null,
   "metadata": {},
   "outputs": [],
   "source": [
    "predictions = pd.Series(predictions, name='Label')"
   ]
  },
  {
   "cell_type": "code",
   "execution_count": null,
   "metadata": {},
   "outputs": [],
   "source": [
    "submission = pd.concat([pd.Series(range(1,28001),name = \"ImageId\"), predictions],axis = 1)\n",
    "submission.to_csv(\"submission.csv\",index=False)"
   ]
  }
 ],
 "metadata": {
  "kaggle": {
   "accelerator": "gpu",
   "dataSources": [
    {
     "databundleVersionId": 861823,
     "sourceId": 3004,
     "sourceType": "competition"
    }
   ],
   "isGpuEnabled": true,
   "isInternetEnabled": true,
   "language": "python",
   "sourceType": "notebook"
  },
  "kernelspec": {
   "display_name": "Python 3 (ipykernel)",
   "language": "python",
   "name": "python3"
  },
  "language_info": {
   "codemirror_mode": {
    "name": "ipython",
    "version": 3
   },
   "file_extension": ".py",
   "mimetype": "text/x-python",
   "name": "python",
   "nbconvert_exporter": "python",
   "pygments_lexer": "ipython3",
   "version": "3.10.9"
  }
 },
 "nbformat": 4,
 "nbformat_minor": 4
}
