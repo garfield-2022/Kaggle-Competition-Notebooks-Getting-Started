{
 "cells": [
  {
   "cell_type": "markdown",
   "metadata": {},
   "source": [
    "Kaggle competition Digit Recognizer https://www.kaggle.com/competitions/digit-recognizer/overview\n",
    "\n",
    "Public score: 0.9736."
   ]
  },
  {
   "cell_type": "markdown",
   "metadata": {},
   "source": [
    "I constructed this notebook following Kaggle Learn Intro to Deep Learning https://www.kaggle.com/learn/intro-to-deep-learning and TensorFlow tutorials https://www.tensorflow.org/tutorials/quickstart/beginner. I have introduced dropout to correct overfitting, and used early stopping to prevent both underfitting and overfitting. Other main references include: NURSULTAN KURMANBEKOV's digit-recognizer-mnist https://www.kaggle.com/code/nursultankurmanbekov/digit-recognizer-mnist and YASSINE GHOUZAM's Introduction to CNN Keras - 0.997 (top 6%) https://www.kaggle.com/code/yassineghouzam/introduction-to-cnn-keras-0-997-top-6.\n",
    "\n",
    "As pointed in Chapter 2 of Deep Learning with Python by François Chollet, this simple model suffers from overfitting. So I switched to convnets approach in a separate notebook https://www.kaggle.com/code/garfield2021/digit-recognizer-keras-cnn. The test accuracy score increased from ~0.97 to ~0.989. "
   ]
  },
  {
   "cell_type": "code",
   "execution_count": null,
   "metadata": {
    "execution": {
     "iopub.execute_input": "2024-04-03T19:45:47.712847Z",
     "iopub.status.busy": "2024-04-03T19:45:47.712129Z",
     "iopub.status.idle": "2024-04-03T19:45:52.191490Z",
     "shell.execute_reply": "2024-04-03T19:45:52.190457Z",
     "shell.execute_reply.started": "2024-04-03T19:45:47.712802Z"
    }
   },
   "outputs": [],
   "source": [
    "import pandas as pd\n",
    "import numpy as np\n",
    "import seaborn as sns\n",
    "import matplotlib.pyplot as plt\n",
    "\n",
    "from sklearn.model_selection import train_test_split\n",
    "\n",
    "from keras.utils import to_categorical\n",
    "\n",
    "from tensorflow import keras\n",
    "from tensorflow.keras import layers\n",
    "from keras.models import Sequential\n",
    "from keras.layers import Dense, Dropout\n",
    "from keras.callbacks import EarlyStopping"
   ]
  },
  {
   "cell_type": "markdown",
   "metadata": {},
   "source": [
    "# 1. Process the Data"
   ]
  },
  {
   "cell_type": "code",
   "execution_count": null,
   "metadata": {
    "execution": {
     "iopub.execute_input": "2024-04-03T19:45:52.193855Z",
     "iopub.status.busy": "2024-04-03T19:45:52.193250Z",
     "iopub.status.idle": "2024-04-03T19:45:56.902252Z",
     "shell.execute_reply": "2024-04-03T19:45:56.901398Z",
     "shell.execute_reply.started": "2024-04-03T19:45:52.193827Z"
    }
   },
   "outputs": [],
   "source": [
    "# Load the train and test datasets.\n",
    "train = pd.read_csv('/kaggle/input/digit-recognizer/train.csv')\n",
    "test = pd.read_csv('/kaggle/input/digit-recognizer/test.csv')"
   ]
  },
  {
   "cell_type": "code",
   "execution_count": null,
   "metadata": {
    "execution": {
     "iopub.execute_input": "2024-04-03T19:45:56.903727Z",
     "iopub.status.busy": "2024-04-03T19:45:56.903422Z",
     "iopub.status.idle": "2024-04-03T19:45:56.984436Z",
     "shell.execute_reply": "2024-04-03T19:45:56.983625Z",
     "shell.execute_reply.started": "2024-04-03T19:45:56.903702Z"
    }
   },
   "outputs": [],
   "source": [
    "Y_train = train[\"label\"]\n",
    "X_train = train.drop(labels=[\"label\"], axis=1)\n",
    "\n",
    "del train"
   ]
  },
  {
   "cell_type": "code",
   "execution_count": null,
   "metadata": {
    "execution": {
     "iopub.execute_input": "2024-04-03T19:45:56.985911Z",
     "iopub.status.busy": "2024-04-03T19:45:56.985586Z",
     "iopub.status.idle": "2024-04-03T19:45:57.387943Z",
     "shell.execute_reply": "2024-04-03T19:45:57.386786Z",
     "shell.execute_reply.started": "2024-04-03T19:45:56.985884Z"
    }
   },
   "outputs": [],
   "source": [
    "# The count distribution for 10 digits are close to uniform.\n",
    "g = sns.histplot(data=Y_train)\n",
    "Y_train.value_counts()"
   ]
  },
  {
   "cell_type": "code",
   "execution_count": null,
   "metadata": {
    "execution": {
     "iopub.execute_input": "2024-04-03T19:45:57.390723Z",
     "iopub.status.busy": "2024-04-03T19:45:57.390411Z",
     "iopub.status.idle": "2024-04-03T19:45:57.425528Z",
     "shell.execute_reply": "2024-04-03T19:45:57.424515Z",
     "shell.execute_reply.started": "2024-04-03T19:45:57.390698Z"
    }
   },
   "outputs": [],
   "source": [
    "# No missing values.\n",
    "X_train.isnull().sum().max()"
   ]
  },
  {
   "cell_type": "code",
   "execution_count": null,
   "metadata": {
    "execution": {
     "iopub.execute_input": "2024-04-03T19:45:57.427674Z",
     "iopub.status.busy": "2024-04-03T19:45:57.426844Z",
     "iopub.status.idle": "2024-04-03T19:45:57.450437Z",
     "shell.execute_reply": "2024-04-03T19:45:57.449469Z",
     "shell.execute_reply.started": "2024-04-03T19:45:57.427633Z"
    }
   },
   "outputs": [],
   "source": [
    "test.isnull().sum().max()"
   ]
  },
  {
   "cell_type": "code",
   "execution_count": null,
   "metadata": {
    "execution": {
     "iopub.execute_input": "2024-04-03T19:45:57.452079Z",
     "iopub.status.busy": "2024-04-03T19:45:57.451684Z",
     "iopub.status.idle": "2024-04-03T19:45:57.458047Z",
     "shell.execute_reply": "2024-04-03T19:45:57.457169Z",
     "shell.execute_reply.started": "2024-04-03T19:45:57.452045Z"
    }
   },
   "outputs": [],
   "source": [
    "print(\"X_train shape: \", X_train.shape)\n",
    "print(\"Y_train shape: \", Y_train.shape)\n",
    "print(\"test shape: \", test.shape)"
   ]
  },
  {
   "cell_type": "markdown",
   "metadata": {},
   "source": [
    "# 2. Normalize and Split"
   ]
  },
  {
   "cell_type": "markdown",
   "metadata": {},
   "source": [
    "The pixel values of the images range from 0 through 255. Scale these values to a range of 0 to 1 by dividing the values by 255.0. This also converts the sample data from integers to floating-point numbers."
   ]
  },
  {
   "cell_type": "code",
   "execution_count": null,
   "metadata": {
    "execution": {
     "iopub.execute_input": "2024-04-03T19:45:57.459694Z",
     "iopub.status.busy": "2024-04-03T19:45:57.459314Z",
     "iopub.status.idle": "2024-04-03T19:45:57.555639Z",
     "shell.execute_reply": "2024-04-03T19:45:57.554548Z",
     "shell.execute_reply.started": "2024-04-03T19:45:57.459664Z"
    }
   },
   "outputs": [],
   "source": [
    "X_train, test = X_train / 255.0, test / 255.0"
   ]
  },
  {
   "cell_type": "code",
   "execution_count": null,
   "metadata": {
    "execution": {
     "iopub.execute_input": "2024-04-03T19:45:57.557433Z",
     "iopub.status.busy": "2024-04-03T19:45:57.557034Z",
     "iopub.status.idle": "2024-04-03T19:45:57.564178Z",
     "shell.execute_reply": "2024-04-03T19:45:57.563220Z",
     "shell.execute_reply.started": "2024-04-03T19:45:57.557394Z"
    }
   },
   "outputs": [],
   "source": [
    "Y_train = to_categorical(Y_train, num_classes = 10)"
   ]
  },
  {
   "cell_type": "code",
   "execution_count": null,
   "metadata": {
    "execution": {
     "iopub.execute_input": "2024-04-03T19:45:57.565592Z",
     "iopub.status.busy": "2024-04-03T19:45:57.565282Z",
     "iopub.status.idle": "2024-04-03T19:45:58.416395Z",
     "shell.execute_reply": "2024-04-03T19:45:58.415405Z",
     "shell.execute_reply.started": "2024-04-03T19:45:57.565567Z"
    }
   },
   "outputs": [],
   "source": [
    "# stratify - make sure classes are evenlly represented across splits\n",
    "X_train, X_val, Y_train, Y_val = train_test_split(X_train, Y_train, stratify=Y_train, train_size=0.75)"
   ]
  },
  {
   "cell_type": "code",
   "execution_count": null,
   "metadata": {
    "execution": {
     "iopub.execute_input": "2024-04-03T19:45:58.417991Z",
     "iopub.status.busy": "2024-04-03T19:45:58.417651Z",
     "iopub.status.idle": "2024-04-03T19:45:58.686796Z",
     "shell.execute_reply": "2024-04-03T19:45:58.685723Z",
     "shell.execute_reply.started": "2024-04-03T19:45:58.417963Z"
    }
   },
   "outputs": [],
   "source": [
    "plt.imshow(X_train.values.reshape(-1,28,28,1)[0], cmap=plt.get_cmap('gray'))"
   ]
  },
  {
   "cell_type": "code",
   "execution_count": null,
   "metadata": {
    "execution": {
     "iopub.execute_input": "2024-04-03T19:45:58.688810Z",
     "iopub.status.busy": "2024-04-03T19:45:58.688277Z",
     "iopub.status.idle": "2024-04-03T19:45:58.694203Z",
     "shell.execute_reply": "2024-04-03T19:45:58.693343Z",
     "shell.execute_reply.started": "2024-04-03T19:45:58.688775Z"
    }
   },
   "outputs": [],
   "source": [
    "print(\"X_train shape: \", X_train.shape)\n",
    "print(\"Y_train shape: \", Y_train.shape)\n",
    "print(\"X_val shape: \", X_val.shape)\n",
    "print(\"Y_val shape: \", Y_val.shape)"
   ]
  },
  {
   "cell_type": "markdown",
   "metadata": {},
   "source": [
    "# 3. Build the Model"
   ]
  },
  {
   "cell_type": "markdown",
   "metadata": {},
   "source": [
    "I have chosen a three-layer network with over 500 neurons. This network should be capable of learning the relationships in the data. The Sequential model will connect together a list of layers in order from first to last: \n",
    "the first layer gets the input, the last layer produces the output. A batch normalization layer looks at each batch as it comes in, first normalizing the batch with its own mean and standard deviation, and then also putting the data on a new scale with two trainable rescaling parameters. Batchnorm, in effect, performs a kind of coordinated rescaling of its inputs."
   ]
  },
  {
   "cell_type": "code",
   "execution_count": null,
   "metadata": {
    "execution": {
     "iopub.execute_input": "2024-04-03T19:45:58.695724Z",
     "iopub.status.busy": "2024-04-03T19:45:58.695359Z",
     "iopub.status.idle": "2024-04-03T19:45:59.273417Z",
     "shell.execute_reply": "2024-04-03T19:45:59.272660Z",
     "shell.execute_reply.started": "2024-04-03T19:45:58.695695Z"
    }
   },
   "outputs": [],
   "source": [
    "model = Sequential([\n",
    "        \n",
    "    # the hidden ReLU layers\n",
    "    Dense(256, activation='relu'),\n",
    "    # apply 20% dropout to the next layer\n",
    "    Dropout(0.2),\n",
    "    \n",
    "    Dense(256, activation='relu'),\n",
    "    Dropout(0.2),\n",
    "    \n",
    "    # the multi-class output layers\n",
    "    Dense(10, activation='softmax')\n",
    "])"
   ]
  },
  {
   "cell_type": "code",
   "execution_count": null,
   "metadata": {
    "execution": {
     "iopub.execute_input": "2024-04-03T19:45:59.277031Z",
     "iopub.status.busy": "2024-04-03T19:45:59.276756Z",
     "iopub.status.idle": "2024-04-03T19:45:59.294133Z",
     "shell.execute_reply": "2024-04-03T19:45:59.293259Z",
     "shell.execute_reply.started": "2024-04-03T19:45:59.277007Z"
    }
   },
   "outputs": [],
   "source": [
    "# After defining the model, we compile in the optimizer and loss function. \n",
    "model.compile(optimizer='adam',\n",
    "              loss='categorical_crossentropy',\n",
    "              metrics=['accuracy'])"
   ]
  },
  {
   "cell_type": "markdown",
   "metadata": {},
   "source": [
    "When a model is too eagerly learning noise, the validation loss may start to increase during training. To prevent this, we can simply stop the training whenever it seems the validation loss isn't decreasing anymore, i.e., early stopping. Once we detect that the validation loss is starting to rise again, we can reset the weights back to where the minimum occured. Training with early stopping also means we're in less danger of stopping the training too early, before the network has finished learning signal. So besides preventing overfitting from training too long, early stopping can also prevent underfitting from not training long enough."
   ]
  },
  {
   "cell_type": "code",
   "execution_count": null,
   "metadata": {
    "execution": {
     "iopub.execute_input": "2024-04-03T19:45:59.295514Z",
     "iopub.status.busy": "2024-04-03T19:45:59.295215Z",
     "iopub.status.idle": "2024-04-03T19:45:59.299846Z",
     "shell.execute_reply": "2024-04-03T19:45:59.298974Z",
     "shell.execute_reply.started": "2024-04-03T19:45:59.295469Z"
    }
   },
   "outputs": [],
   "source": [
    "early_stopping = EarlyStopping(\n",
    "    \n",
    "    # how many epochs to wait before stopping\n",
    "    patience=5,\n",
    "    \n",
    "    # minimium amount of change to count as an improvement\n",
    "    min_delta=0.001,\n",
    "    \n",
    "    restore_best_weights=True\n",
    ")"
   ]
  },
  {
   "cell_type": "markdown",
   "metadata": {},
   "source": [
    "We've told Keras to feed the optimizer 512 rows of the training data at a time (the batch_size) and to do that 100 times all the way through the dataset (the epochs). You can see that Keras will keep you updated on the loss as the model trains."
   ]
  },
  {
   "cell_type": "code",
   "execution_count": null,
   "metadata": {
    "execution": {
     "iopub.execute_input": "2024-04-03T19:45:59.301096Z",
     "iopub.status.busy": "2024-04-03T19:45:59.300848Z",
     "iopub.status.idle": "2024-04-03T19:46:15.876148Z",
     "shell.execute_reply": "2024-04-03T19:46:15.874826Z",
     "shell.execute_reply.started": "2024-04-03T19:45:59.301074Z"
    }
   },
   "outputs": [],
   "source": [
    "history = model.fit(\n",
    "    X_train, Y_train,\n",
    "    validation_data=(X_val, Y_val),\n",
    "    batch_size=128,\n",
    "    epochs=10,\n",
    "    \n",
    "    # put your callbacks in a list\n",
    "    callbacks=[early_stopping]\n",
    ")"
   ]
  },
  {
   "cell_type": "markdown",
   "metadata": {},
   "source": [
    "Often, a better way to view the loss though is to plot it. The fit method in fact keeps a record of the loss produced during training in a History object. We'll convert the data to a Pandas dataframe, which makes the plotting easy. The model overfits the training data at best accuracy close to 0.99 but underfits the validation set at accuracy smaller than 0.98."
   ]
  },
  {
   "cell_type": "code",
   "execution_count": null,
   "metadata": {
    "execution": {
     "iopub.execute_input": "2024-04-03T19:46:15.878162Z",
     "iopub.status.busy": "2024-04-03T19:46:15.877828Z",
     "iopub.status.idle": "2024-04-03T19:46:16.527010Z",
     "shell.execute_reply": "2024-04-03T19:46:16.525830Z",
     "shell.execute_reply.started": "2024-04-03T19:46:15.878135Z"
    }
   },
   "outputs": [],
   "source": [
    "history_df = pd.DataFrame(history.history)\n",
    "\n",
    "history_df.loc[:, ['loss', 'val_loss']].plot(title=\"Cross-entropy\")\n",
    "print(\"Minimum validation loss: {}\".format(history_df['val_loss'].min()))\n",
    "\n",
    "history_df.loc[:, ['accuracy', 'val_accuracy']].plot(title=\"Accuracy\")\n",
    "print(\"Maximum validation accuracy: {}\".format(history_df['val_accuracy'].max()))"
   ]
  },
  {
   "cell_type": "markdown",
   "metadata": {},
   "source": [
    "# 4. Predict and Submit"
   ]
  },
  {
   "cell_type": "code",
   "execution_count": null,
   "metadata": {
    "execution": {
     "iopub.execute_input": "2024-04-03T19:46:16.528631Z",
     "iopub.status.busy": "2024-04-03T19:46:16.528290Z",
     "iopub.status.idle": "2024-04-03T19:46:19.022619Z",
     "shell.execute_reply": "2024-04-03T19:46:19.021555Z",
     "shell.execute_reply.started": "2024-04-03T19:46:16.528602Z"
    }
   },
   "outputs": [],
   "source": [
    "# Make predicitons based on the model trained before.\n",
    "predictions = model.predict(test)"
   ]
  },
  {
   "cell_type": "code",
   "execution_count": null,
   "metadata": {
    "execution": {
     "iopub.execute_input": "2024-04-03T19:46:19.024467Z",
     "iopub.status.busy": "2024-04-03T19:46:19.024138Z",
     "iopub.status.idle": "2024-04-03T19:46:19.030375Z",
     "shell.execute_reply": "2024-04-03T19:46:19.029086Z",
     "shell.execute_reply.started": "2024-04-03T19:46:19.024439Z"
    }
   },
   "outputs": [],
   "source": [
    "# Select the index with the maximum probability\n",
    "predictions = np.argmax(predictions,axis =1)"
   ]
  },
  {
   "cell_type": "code",
   "execution_count": null,
   "metadata": {
    "execution": {
     "iopub.execute_input": "2024-04-03T19:46:19.032219Z",
     "iopub.status.busy": "2024-04-03T19:46:19.031856Z",
     "iopub.status.idle": "2024-04-03T19:46:19.043718Z",
     "shell.execute_reply": "2024-04-03T19:46:19.042783Z",
     "shell.execute_reply.started": "2024-04-03T19:46:19.032179Z"
    }
   },
   "outputs": [],
   "source": [
    "predictions = pd.Series(predictions, name='Label')"
   ]
  },
  {
   "cell_type": "code",
   "execution_count": null,
   "metadata": {
    "execution": {
     "iopub.execute_input": "2024-04-03T19:46:19.045275Z",
     "iopub.status.busy": "2024-04-03T19:46:19.044964Z",
     "iopub.status.idle": "2024-04-03T19:46:19.096197Z",
     "shell.execute_reply": "2024-04-03T19:46:19.095260Z",
     "shell.execute_reply.started": "2024-04-03T19:46:19.045251Z"
    }
   },
   "outputs": [],
   "source": [
    "submission = pd.concat([pd.Series(range(1,28001),name = \"ImageId\"), predictions],axis = 1)\n",
    "submission.to_csv(\"submission.csv\",index=False)"
   ]
  }
 ],
 "metadata": {
  "kaggle": {
   "accelerator": "nvidiaTeslaT4",
   "dataSources": [
    {
     "databundleVersionId": 861823,
     "sourceId": 3004,
     "sourceType": "competition"
    }
   ],
   "dockerImageVersionId": 30674,
   "isGpuEnabled": true,
   "isInternetEnabled": true,
   "language": "python",
   "sourceType": "notebook"
  },
  "kernelspec": {
   "display_name": "Python 3 (ipykernel)",
   "language": "python",
   "name": "python3"
  },
  "language_info": {
   "codemirror_mode": {
    "name": "ipython",
    "version": 3
   },
   "file_extension": ".py",
   "mimetype": "text/x-python",
   "name": "python",
   "nbconvert_exporter": "python",
   "pygments_lexer": "ipython3",
   "version": "3.10.9"
  }
 },
 "nbformat": 4,
 "nbformat_minor": 4
}
