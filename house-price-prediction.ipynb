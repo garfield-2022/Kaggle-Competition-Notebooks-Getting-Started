{
 "cells": [
  {
   "cell_type": "markdown",
   "metadata": {},
   "source": [
    "Kaggle competition House Prices - Advanced Regression Techniques \n",
    "https://www.kaggle.com/competitions/house-prices-advanced-regression-techniques\n",
    "\n",
    "Public score: 0.11913."
   ]
  },
  {
   "cell_type": "markdown",
   "metadata": {},
   "source": [
    "This notebook was copied and edited from SERIGNE's Stacked Regressions : Top 4% on LeaderBoard https://www.kaggle.com/code/serigne/stacked-regressions-top-4-on-leaderboard;\n",
    "\n",
    "I borrowed how to drop highly correlated variables from ERIK BRUIN's House prices: Lasso, XGBoost, and a detailed EDA https://www.kaggle.com/code/erikbruin/house-prices-lasso-xgboost-and-a-detailed-eda.\n",
    "\n",
    "I also added a ratio feature following Kaggle Learn Course Feature Engineering https://www.kaggle.com/learn/feature-engineering.\n",
    "\n",
    "Finally I blended models following NANASHI's #1 House Prices Solution [top 1%] https://www.kaggle.com/code/jesucristo/1-house-prices-solution-top-1#New-blending\n",
    "\n",
    "Happy Kaggling!"
   ]
  },
  {
   "cell_type": "code",
   "execution_count": null,
   "metadata": {
    "execution": {
     "iopub.execute_input": "2024-01-25T20:52:15.113163Z",
     "iopub.status.busy": "2024-01-25T20:52:15.112690Z",
     "iopub.status.idle": "2024-01-25T20:52:18.584980Z",
     "shell.execute_reply": "2024-01-25T20:52:18.583813Z",
     "shell.execute_reply.started": "2024-01-25T20:52:15.113137Z"
    }
   },
   "outputs": [],
   "source": [
    "#import some necessary librairies\n",
    "\n",
    "import pandas as pd\n",
    "import numpy as np\n",
    "import matplotlib.pyplot as plt\n",
    "import seaborn as sns\n",
    "\n",
    "pd.set_option('display.float_format', lambda x: '{:.3f}'.format(x)) #Limiting floats output to 3 decimal points\n",
    "%matplotlib inline\n",
    "color = sns.color_palette()\n",
    "sns.set_style('darkgrid')\n",
    "\n",
    "from scipy import stats\n",
    "from scipy.stats import norm, skew\n",
    "\n",
    "from sklearn.preprocessing import LabelEncoder\n",
    "# from category_encoders.ordinal import OrdinalEncoder\n",
    "from sklearn.preprocessing import RobustScaler\n",
    "from sklearn.linear_model import ElasticNet, Lasso\n",
    "from sklearn.kernel_ridge import KernelRidge\n",
    "from sklearn.svm import SVR\n",
    "from sklearn.model_selection import KFold, cross_val_score, train_test_split\n",
    "from sklearn.ensemble import RandomForestRegressor, GradientBoostingRegressor \n",
    "from sklearn.ensemble import StackingRegressor\n",
    "from sklearn.pipeline import make_pipeline\n",
    "from sklearn.metrics import mean_squared_error\n",
    "\n",
    "import xgboost as xgb\n",
    "import lightgbm as lgb\n",
    "\n",
    "import warnings\n",
    "def ignore_warn(*args, **kwargs):\n",
    "    pass\n",
    "warnings.warn = ignore_warn \n"
   ]
  },
  {
   "cell_type": "markdown",
   "metadata": {},
   "source": [
    "# Step 1 : Load the data."
   ]
  },
  {
   "cell_type": "code",
   "execution_count": null,
   "metadata": {
    "execution": {
     "iopub.execute_input": "2024-01-25T20:52:18.587274Z",
     "iopub.status.busy": "2024-01-25T20:52:18.586928Z",
     "iopub.status.idle": "2024-01-25T20:52:18.658127Z",
     "shell.execute_reply": "2024-01-25T20:52:18.657135Z",
     "shell.execute_reply.started": "2024-01-25T20:52:18.587244Z"
    }
   },
   "outputs": [],
   "source": [
    "#Now let's import and put the train and test datasets in  pandas dataframe\n",
    "\n",
    "train = pd.read_csv('../input/house-prices-advanced-regression-techniques/train.csv')\n",
    "test = pd.read_csv('../input/house-prices-advanced-regression-techniques/test.csv')"
   ]
  },
  {
   "cell_type": "code",
   "execution_count": null,
   "metadata": {
    "execution": {
     "iopub.execute_input": "2024-01-25T20:52:18.659984Z",
     "iopub.status.busy": "2024-01-25T20:52:18.659490Z",
     "iopub.status.idle": "2024-01-25T20:52:18.690806Z",
     "shell.execute_reply": "2024-01-25T20:52:18.689812Z",
     "shell.execute_reply.started": "2024-01-25T20:52:18.659955Z"
    }
   },
   "outputs": [],
   "source": [
    "##display the first five rows of the train dataset.\n",
    "train.head(5)"
   ]
  },
  {
   "cell_type": "code",
   "execution_count": null,
   "metadata": {
    "execution": {
     "iopub.execute_input": "2024-01-25T20:52:18.693260Z",
     "iopub.status.busy": "2024-01-25T20:52:18.692903Z",
     "iopub.status.idle": "2024-01-25T20:52:18.710644Z",
     "shell.execute_reply": "2024-01-25T20:52:18.709808Z",
     "shell.execute_reply.started": "2024-01-25T20:52:18.693238Z"
    }
   },
   "outputs": [],
   "source": [
    "##display the first five rows of the test dataset.\n",
    "test.head(5)"
   ]
  },
  {
   "cell_type": "code",
   "execution_count": null,
   "metadata": {
    "execution": {
     "iopub.execute_input": "2024-01-25T20:52:18.711918Z",
     "iopub.status.busy": "2024-01-25T20:52:18.711666Z",
     "iopub.status.idle": "2024-01-25T20:52:18.726388Z",
     "shell.execute_reply": "2024-01-25T20:52:18.725258Z",
     "shell.execute_reply.started": "2024-01-25T20:52:18.711896Z"
    }
   },
   "outputs": [],
   "source": [
    "#check the numbers of samples and features\n",
    "print(\"The train data size before dropping Id feature is : {} \".format(train.shape))\n",
    "print(\"The test data size before dropping Id feature is : {} \".format(test.shape))\n",
    "\n",
    "#Save the 'Id' column\n",
    "train_ID = train['Id']\n",
    "test_ID = test['Id']\n",
    "\n",
    "#Now drop the  'Id' colum since it's unnecessary for  the prediction process.\n",
    "train.drop(\"Id\", axis = 1, inplace = True)\n",
    "test.drop(\"Id\", axis = 1, inplace = True)\n",
    "\n",
    "#check again the data size after dropping the 'Id' variable\n",
    "print(\"\\nThe train data size after dropping Id feature is : {} \".format(train.shape)) \n",
    "print(\"The test data size after dropping Id feature is : {} \".format(test.shape))"
   ]
  },
  {
   "cell_type": "markdown",
   "metadata": {},
   "source": [
    "# Step 2: Remove the outliers."
   ]
  },
  {
   "cell_type": "code",
   "execution_count": null,
   "metadata": {
    "execution": {
     "iopub.execute_input": "2024-01-25T20:52:18.728386Z",
     "iopub.status.busy": "2024-01-25T20:52:18.728016Z",
     "iopub.status.idle": "2024-01-25T20:52:19.012891Z",
     "shell.execute_reply": "2024-01-25T20:52:19.011487Z",
     "shell.execute_reply.started": "2024-01-25T20:52:18.728359Z"
    }
   },
   "outputs": [],
   "source": [
    "fig, ax = plt.subplots()\n",
    "ax.scatter(x = train['GrLivArea'], y = train['SalePrice'])\n",
    "plt.ylabel('SalePrice', fontsize=13)\n",
    "plt.xlabel('GrLivArea', fontsize=13)\n",
    "plt.show()"
   ]
  },
  {
   "cell_type": "code",
   "execution_count": null,
   "metadata": {
    "execution": {
     "iopub.execute_input": "2024-01-25T20:52:19.014374Z",
     "iopub.status.busy": "2024-01-25T20:52:19.014122Z",
     "iopub.status.idle": "2024-01-25T20:52:19.240394Z",
     "shell.execute_reply": "2024-01-25T20:52:19.239223Z",
     "shell.execute_reply.started": "2024-01-25T20:52:19.014353Z"
    }
   },
   "outputs": [],
   "source": [
    "#Deleting outliers\n",
    "train = train.drop(train[(train['GrLivArea']>4000) & (train['SalePrice']<300000)].index)\n",
    "\n",
    "#Check the graphic again\n",
    "fig, ax = plt.subplots()\n",
    "ax.scatter(train['GrLivArea'], train['SalePrice'])\n",
    "plt.ylabel('SalePrice', fontsize=13)\n",
    "plt.xlabel('GrLivArea', fontsize=13)\n",
    "plt.show()"
   ]
  },
  {
   "cell_type": "markdown",
   "metadata": {},
   "source": [
    "# Step 3:Normalize the target variable."
   ]
  },
  {
   "cell_type": "code",
   "execution_count": null,
   "metadata": {
    "execution": {
     "iopub.execute_input": "2024-01-25T20:52:19.241884Z",
     "iopub.status.busy": "2024-01-25T20:52:19.241654Z",
     "iopub.status.idle": "2024-01-25T20:52:19.968926Z",
     "shell.execute_reply": "2024-01-25T20:52:19.968012Z",
     "shell.execute_reply.started": "2024-01-25T20:52:19.241863Z"
    }
   },
   "outputs": [],
   "source": [
    "sns.histplot(train['SalePrice'], kde=True, stat=\"density\", kde_kws=dict(cut=3), alpha=.4, edgecolor=(1, 1, 1, .4), bins=50);\n",
    "\n",
    "# Get the fitted parameters used by the function\n",
    "(mu, sigma) = norm.fit(train['SalePrice'])\n",
    "print( '\\n mu = {:.2f} and sigma = {:.2f}\\n'.format(mu, sigma))\n",
    "\n",
    "# Plot the PDF. \n",
    "xmin, xmax = plt.xlim() \n",
    "x = np.linspace(xmin, xmax, 100) \n",
    "p = norm.pdf(x, mu, sigma) \n",
    "  \n",
    "plt.plot(x, p, 'k', linewidth=2) \n",
    "plt.legend(['Normal dist. ($\\mu=$ {:.2f} and $\\sigma=$ {:.2f} )'.format(mu, sigma)],\n",
    "            loc='best')\n",
    "plt.title('SalePrice distribution')\n",
    "\n",
    "#Get also the QQ-plot\n",
    "fig = plt.figure()\n",
    "res = stats.probplot(train['SalePrice'], plot=plt)\n",
    "plt.show()"
   ]
  },
  {
   "cell_type": "code",
   "execution_count": null,
   "metadata": {
    "execution": {
     "iopub.execute_input": "2024-01-25T20:52:19.970173Z",
     "iopub.status.busy": "2024-01-25T20:52:19.969936Z",
     "iopub.status.idle": "2024-01-25T20:52:20.644420Z",
     "shell.execute_reply": "2024-01-25T20:52:20.643481Z",
     "shell.execute_reply.started": "2024-01-25T20:52:19.970152Z"
    }
   },
   "outputs": [],
   "source": [
    "#We use the numpy fuction log1p which  applies log(1+x) to all elements of the column\n",
    "train[\"SalePrice\"] = np.log1p(train[\"SalePrice\"])\n",
    "\n",
    "#Check the new distribution \n",
    "sns.histplot(train['SalePrice'] , kde=True, stat=\"density\", kde_kws=dict(cut=3), alpha=.4, edgecolor=(1, 1, 1, .4), bins=50);\n",
    "\n",
    "# Get the fitted parameters used by the function\n",
    "(mu, sigma) = norm.fit(train['SalePrice'])\n",
    "print( '\\n mu = {:.2f} and sigma = {:.2f}\\n'.format(mu, sigma))\n",
    "\n",
    "# Plot the PDF. \n",
    "xmin, xmax = plt.xlim() \n",
    "x = np.linspace(xmin, xmax, 100) \n",
    "p = norm.pdf(x, mu, sigma) \n",
    "  \n",
    "plt.plot(x, p, 'k', linewidth=2) \n",
    "plt.legend(['Normal dist. ($\\mu=$ {:.2f} and $\\sigma=$ {:.2f} )'.format(mu, sigma)],\n",
    "            loc='best')\n",
    "plt.title('SalePrice distribution')\n",
    "\n",
    "#Get also the QQ-plot\n",
    "fig = plt.figure()\n",
    "res = stats.probplot(train['SalePrice'], plot=plt)\n",
    "plt.show()"
   ]
  },
  {
   "cell_type": "code",
   "execution_count": null,
   "metadata": {
    "execution": {
     "iopub.execute_input": "2024-01-25T20:52:20.647799Z",
     "iopub.status.busy": "2024-01-25T20:52:20.647490Z",
     "iopub.status.idle": "2024-01-25T20:52:20.670065Z",
     "shell.execute_reply": "2024-01-25T20:52:20.669168Z",
     "shell.execute_reply.started": "2024-01-25T20:52:20.647773Z"
    }
   },
   "outputs": [],
   "source": [
    "ntrain = train.shape[0]\n",
    "ntest = test.shape[0]\n",
    "y_train = train.SalePrice.values\n",
    "all_data = pd.concat((train, test)).reset_index(drop=True)\n",
    "all_data.drop(['SalePrice'], axis=1, inplace=True)\n",
    "print(\"all_data size is : {}\".format(all_data.shape))"
   ]
  },
  {
   "cell_type": "markdown",
   "metadata": {},
   "source": [
    "# Step 4: Fill in missing data."
   ]
  },
  {
   "cell_type": "code",
   "execution_count": null,
   "metadata": {
    "execution": {
     "iopub.execute_input": "2024-01-25T20:52:20.671809Z",
     "iopub.status.busy": "2024-01-25T20:52:20.671313Z",
     "iopub.status.idle": "2024-01-25T20:52:20.687538Z",
     "shell.execute_reply": "2024-01-25T20:52:20.686318Z",
     "shell.execute_reply.started": "2024-01-25T20:52:20.671782Z"
    }
   },
   "outputs": [],
   "source": [
    "# 34 coloums have missing data.\n",
    "\n",
    "all_data_na = (all_data.isnull().sum() / len(all_data)) * 100\n",
    "all_data_na = all_data_na.drop(all_data_na[all_data_na == 0].index).sort_values(ascending=False)[:40]\n",
    "missing_data = pd.DataFrame({'Missing Ratio' :all_data_na})\n",
    "missing_data.head(40)"
   ]
  },
  {
   "cell_type": "code",
   "execution_count": null,
   "metadata": {
    "execution": {
     "iopub.execute_input": "2024-01-25T20:52:20.689428Z",
     "iopub.status.busy": "2024-01-25T20:52:20.689098Z",
     "iopub.status.idle": "2024-01-25T20:52:21.401527Z",
     "shell.execute_reply": "2024-01-25T20:52:21.400772Z",
     "shell.execute_reply.started": "2024-01-25T20:52:20.689400Z"
    }
   },
   "outputs": [],
   "source": [
    "f, ax = plt.subplots(figsize=(15, 12))\n",
    "plt.xticks(rotation='vertical')\n",
    "sns.barplot(x=all_data_na.index, y=all_data_na)\n",
    "plt.xlabel('Features', fontsize=15)\n",
    "plt.ylabel('Percent of missing values', fontsize=15)\n",
    "plt.title('Percent missing data by feature', fontsize=15)"
   ]
  },
  {
   "cell_type": "markdown",
   "metadata": {},
   "source": [
    "Imputing missing values"
   ]
  },
  {
   "cell_type": "code",
   "execution_count": null,
   "metadata": {
    "execution": {
     "iopub.execute_input": "2024-01-25T20:52:21.403283Z",
     "iopub.status.busy": "2024-01-25T20:52:21.402633Z",
     "iopub.status.idle": "2024-01-25T20:52:21.451102Z",
     "shell.execute_reply": "2024-01-25T20:52:21.450010Z",
     "shell.execute_reply.started": "2024-01-25T20:52:21.403257Z"
    }
   },
   "outputs": [],
   "source": [
    "# PoolQC : data description says NA means \"No Pool\". That make sense, given the huge ratio of missing value (+99%) and majority of houses have no Pool at all in general.\n",
    "all_data[\"PoolQC\"] = all_data[\"PoolQC\"].fillna(\"None\")\n",
    "\n",
    "# MiscFeature : data description says NA means \"no misc feature\"\n",
    "all_data[\"MiscFeature\"] = all_data[\"MiscFeature\"].fillna(\"None\")\n",
    "\n",
    "# Alley : data description says NA means \"no alley access\"\n",
    "all_data[\"Alley\"] = all_data[\"Alley\"].fillna(\"None\")\n",
    "\n",
    "# Fence : data description says NA means \"no fence\"\n",
    "all_data[\"Fence\"] = all_data[\"Fence\"].fillna(\"None\")\n",
    "\n",
    "# FireplaceQu : data description says NA means \"no fireplace\"\n",
    "all_data[\"FireplaceQu\"] = all_data[\"FireplaceQu\"].fillna(\"None\")\n",
    "\n",
    "# LotFrontage : Since the area of each street connected to the house property most likely have a similar area to other houses in its neighborhood , \n",
    "# we can fill in missing values by the median LotFrontage of the neighborhood.\n",
    "all_data[\"LotFrontage\"] = all_data.groupby(\"Neighborhood\")[\"LotFrontage\"].transform(\n",
    "    lambda x: x.fillna(x.median()))\n",
    "\n",
    "# GarageType, GarageFinish, GarageQual and GarageCond : Replacing missing data with None\n",
    "for col in ('GarageType', 'GarageFinish', 'GarageQual', 'GarageCond'):\n",
    "    all_data[col] = all_data[col].fillna('None')\n",
    "    \n",
    "# GarageArea and GarageCars : Replacing missing data with 0 (Since No garage = no cars in such garage).\n",
    "for col in ('GarageArea', 'GarageCars'):\n",
    "    all_data[col] = all_data[col].fillna(0)\n",
    "    \n",
    "# GarageYrBlt: replacing missing values with median.\n",
    "all_data['GarageYrBlt'] = all_data['GarageYrBlt'].fillna(all_data['GarageYrBlt'].median())\n",
    "    \n",
    "# BsmtFinSF1, BsmtFinSF2, BsmtUnfSF, TotalBsmtSF, BsmtFullBath and BsmtHalfBath : missing values are likely zero for having no basement\n",
    "for col in ('BsmtFinSF1', 'BsmtFinSF2', 'BsmtUnfSF','TotalBsmtSF', 'BsmtFullBath', 'BsmtHalfBath'):\n",
    "    all_data[col] = all_data[col].fillna(0)\n",
    "    \n",
    "# BsmtQual, BsmtCond, BsmtExposure, BsmtFinType1 and BsmtFinType2 : For all these categorical basement-related features, NaN means that there is no basement.\n",
    "for col in ('BsmtQual', 'BsmtCond', 'BsmtExposure', 'BsmtFinType1', 'BsmtFinType2'):\n",
    "    all_data[col] = all_data[col].fillna('None')\n",
    "    \n",
    "# MasVnrArea and MasVnrType : NA most likely means no masonry veneer for these houses. We can fill 0 for the area and None for the type.\n",
    "all_data[\"MasVnrType\"] = all_data[\"MasVnrType\"].fillna(\"None\")\n",
    "all_data[\"MasVnrArea\"] = all_data[\"MasVnrArea\"].fillna(0)\n",
    "\n",
    "# MSZoning (The general zoning classification) : 'RL' is by far the most common value. So we can fill in missing values with 'RL'\n",
    "all_data['MSZoning'] = all_data['MSZoning'].fillna(all_data['MSZoning'].mode()[0])\n",
    "\n",
    "# Utilities : For this categorical feature all records are \"AllPub\", except for one \"NoSeWa\" and 2 NA . \n",
    "# Since the house with 'NoSewa' is in the training set, this feature won't help in predictive modelling. We can then safely remove it.\n",
    "all_data = all_data.drop(['Utilities'], axis=1)\n",
    "\n",
    "# Functional : data description says NA means typical\n",
    "all_data[\"Functional\"] = all_data[\"Functional\"].fillna(\"Typ\")\n",
    "\n",
    "# Electrical : It has one NA value. Since this feature has mostly 'SBrkr', we can set that for the missing value.\n",
    "all_data['Electrical'] = all_data['Electrical'].fillna(all_data['Electrical'].mode()[0])\n",
    "\n",
    "# KitchenQual: Only one NA value, and same as Electrical, we set 'TA' (which is the most frequent) for the missing value in KitchenQual.\n",
    "all_data['KitchenQual'] = all_data['KitchenQual'].fillna(all_data['KitchenQual'].mode()[0])\n",
    "\n",
    "# Exterior1st and Exterior2nd : Again Both Exterior 1 & 2 have only one missing value. We will just substitute in the most common string\n",
    "all_data['Exterior1st'] = all_data['Exterior1st'].fillna(all_data['Exterior1st'].mode()[0])\n",
    "all_data['Exterior2nd'] = all_data['Exterior2nd'].fillna(all_data['Exterior2nd'].mode()[0])\n",
    "\n",
    "# SaleType : Fill in again with most frequent which is \"WD\"\n",
    "all_data['SaleType'] = all_data['SaleType'].fillna(all_data['SaleType'].mode()[0])\n",
    "\n",
    "# MSSubClass : Na most likely means No building class. We can replace missing values with None\n",
    "# all_data['MSSubClass'] = all_data['MSSubClass'].fillna(\"None\")\n"
   ]
  },
  {
   "cell_type": "code",
   "execution_count": null,
   "metadata": {
    "execution": {
     "iopub.execute_input": "2024-01-25T20:52:21.452569Z",
     "iopub.status.busy": "2024-01-25T20:52:21.452294Z",
     "iopub.status.idle": "2024-01-25T20:52:21.472152Z",
     "shell.execute_reply": "2024-01-25T20:52:21.471138Z",
     "shell.execute_reply.started": "2024-01-25T20:52:21.452545Z"
    }
   },
   "outputs": [],
   "source": [
    "#Check remaining missing values if any \n",
    "all_data_na = (all_data.isnull().sum() / len(all_data)) * 100\n",
    "all_data_na = all_data_na.drop(all_data_na[all_data_na == 0].index).sort_values(ascending=False)\n",
    "missing_data = pd.DataFrame({'Missing Ratio' :all_data_na})\n",
    "missing_data.head()"
   ]
  },
  {
   "cell_type": "markdown",
   "metadata": {},
   "source": [
    "Transforming some numerical variables that are really categorical."
   ]
  },
  {
   "cell_type": "code",
   "execution_count": null,
   "metadata": {
    "execution": {
     "iopub.execute_input": "2024-01-25T20:52:21.473341Z",
     "iopub.status.busy": "2024-01-25T20:52:21.473079Z",
     "iopub.status.idle": "2024-01-25T20:52:21.485631Z",
     "shell.execute_reply": "2024-01-25T20:52:21.483980Z",
     "shell.execute_reply.started": "2024-01-25T20:52:21.473318Z"
    }
   },
   "outputs": [],
   "source": [
    "#MSSubClass=The building class\n",
    "all_data['MSSubClass'] = all_data['MSSubClass'].apply(str)\n",
    "\n",
    "\n",
    "#Changing OverallCond into a categorical variable\n",
    "all_data['OverallCond'] = all_data['OverallCond'].astype(str)\n",
    "\n",
    "#Year and month sold are transformed into categorical features.\n",
    "all_data['YrSold'] = all_data['YrSold'].astype(str)\n",
    "all_data['MoSold'] = all_data['MoSold'].astype(str)"
   ]
  },
  {
   "cell_type": "code",
   "execution_count": null,
   "metadata": {
    "execution": {
     "iopub.execute_input": "2024-01-25T20:52:21.488159Z",
     "iopub.status.busy": "2024-01-25T20:52:21.487783Z",
     "iopub.status.idle": "2024-01-25T20:52:21.496907Z",
     "shell.execute_reply": "2024-01-25T20:52:21.495491Z",
     "shell.execute_reply.started": "2024-01-25T20:52:21.488128Z"
    }
   },
   "outputs": [],
   "source": [
    "# Ordinal Encoding some categorical variables that may contain information in their ordering set.\n",
    "# How to map categorical data to category_encoders.OrdinalEncoder in python pandas dataframe\n",
    "# https://stackoverflow.com/questions/50092911/how-to-map-categorical-data-to-category-encoders-ordinalencoder-in-python-pandas\n",
    "# ordinal_mappings = {\n",
    "#    \"MSSubClass\": [np.nan, 20, 30, 40, 45, 50, 60, 70, 75, 80, 85, 90, 120, 150, 160, 180, 190], \n",
    "#    \"Street\": [np.nan, 'Grvl', 'Pave'],\n",
    "#    \"Alley\": ['None', 'Grvl', 'Pave'],\n",
    "#    \"LotShape\": [np.nan, 'IR3', 'IR2', 'IR1', 'Reg'], \n",
    "#    \"LandSlope\": [np.nan, 'Sev', 'Mod', 'Gtl'],\n",
    "#    \"OverallCond\": [np.nan, '1', '2', '3', '4', '5', '6', '7', '8', '9', '10'],\n",
    "#    \"ExterQual\": [np.nan, 'Po', 'Fa', 'TA', 'Gd', 'Ex'], \n",
    "#    \"ExterCond\":[np.nan, 'Po', 'Fa', 'TA', 'Gd', 'Ex'],\n",
    "#    \"BsmtQual\": ['None', 'Po', 'Fa', 'TA', 'Gd', 'Ex'], \n",
    "#    \"BsmtCond\": ['None', 'Po', 'Fa', 'TA', 'Gd', 'Ex'], \n",
    "#    \"BsmtExposure\": ['None', 'No', 'Mn', 'Av', 'Gd'], \n",
    "#    \"BsmtFinType1\": ['None', 'Unf', 'LwQ', 'Rec', 'BLQ', 'ALQ', 'GLQ'], \n",
    "#    \"BsmtFinType2\": ['None', 'Unf', 'LwQ', 'Rec', 'BLQ', 'ALQ', 'GLQ'], \n",
    "#    \"HeatingQC\": [np.nan, 'Po', 'Fa', 'TA', 'Gd', 'Ex'],\n",
    "#    \"CentralAir\": [np.nan, 'N', 'Y'],\n",
    "#    \"KitchenQual\": [np.nan, 'Fa', 'TA', 'Gd', 'Ex'], \n",
    "#    \"Functional\": [np.nan, 'Sal', 'Sev', 'Maj2', 'Maj1', 'Mod', 'Min2', 'Min1', 'Typ'], \n",
    "#    \"FireplaceQu\": ['None', 'Po', 'Fa', 'TA', 'Gd', 'Ex'], \n",
    "#    \"GarageFinish\": ['None', 'Unf', 'RFn', 'Fin'], \n",
    "#    \"GarageQual\": ['None', 'Po', 'Fa', 'TA', 'Gd', 'Ex'], \n",
    "#    \"GarageCond\": ['None', 'Po', 'Fa', 'TA', 'Gd', 'Ex'], \n",
    "#    \"PavedDrive\": [np.nan, 'N', 'P', 'Y'],\n",
    "#    \"PoolQC\": ['None', 'Fa', 'TA', 'Gd', 'Ex'], \n",
    "#    \"Fence\": ['None', 'MnWw', 'GdWo', 'MnPrv', 'GdPrv'],\n",
    "# }\n",
    "\n",
    "\n",
    "# transform to a suitable format for OrdinalEncoder\n",
    "# ce_ordinal_mappings = []\n",
    "# for col, unique_values in ordinal_mappings.items():\n",
    "#    local_mapping = {val:idx for idx, val in enumerate(unique_values)}\n",
    "#    ce_ordinal_mappings.append({\"col\":col, \"mapping\":local_mapping})\n",
    "\n",
    "# encoder = OrdinalEncoder(mapping=ce_ordinal_mappings, return_df=True)\n",
    "# encoder.fit_transform(all_data)"
   ]
  },
  {
   "cell_type": "markdown",
   "metadata": {},
   "source": [
    "Label Encoding some categorical variables that may contain information in their ordering set."
   ]
  },
  {
   "cell_type": "code",
   "execution_count": null,
   "metadata": {
    "execution": {
     "iopub.execute_input": "2024-01-25T20:52:21.498969Z",
     "iopub.status.busy": "2024-01-25T20:52:21.498208Z",
     "iopub.status.idle": "2024-01-25T20:52:21.566077Z",
     "shell.execute_reply": "2024-01-25T20:52:21.564623Z",
     "shell.execute_reply.started": "2024-01-25T20:52:21.498937Z"
    }
   },
   "outputs": [],
   "source": [
    "cols = ('FireplaceQu', 'BsmtQual', 'BsmtCond', 'GarageQual', 'GarageCond', \n",
    "        'ExterQual', 'ExterCond','HeatingQC', 'PoolQC', 'KitchenQual', 'BsmtFinType1', \n",
    "        'BsmtFinType2', 'Functional', 'Fence', 'BsmtExposure', 'GarageFinish', 'LandSlope',\n",
    "        'LotShape', 'PavedDrive', 'Street', 'Alley', 'CentralAir', 'MSSubClass', 'OverallCond', \n",
    "        'YrSold', 'MoSold')\n",
    "# process columns, apply LabelEncoder to categorical features\n",
    "for c in cols:\n",
    "    lbl = LabelEncoder() \n",
    "    lbl.fit(list(all_data[c].values)) \n",
    "    all_data[c] = lbl.transform(list(all_data[c].values))\n",
    "    \n",
    "# shape        \n",
    "print('Shape all_data: {}'.format(all_data.shape))    "
   ]
  },
  {
   "cell_type": "markdown",
   "metadata": {},
   "source": [
    "# Step 5: Drop highly correlated variables."
   ]
  },
  {
   "cell_type": "markdown",
   "metadata": {},
   "source": [
    "According to the data description, some features may actually point to the same quantities. For example, 'GarageYrBlt' and 'YearBuilt' may be the same, because when the house was built, the garage was included. We draw the correlation map, and select those pairs that have a correlation factor greater than 0.8. "
   ]
  },
  {
   "cell_type": "code",
   "execution_count": null,
   "metadata": {
    "execution": {
     "iopub.execute_input": "2024-01-25T20:52:21.567500Z",
     "iopub.status.busy": "2024-01-25T20:52:21.567211Z",
     "iopub.status.idle": "2024-01-25T20:52:25.606635Z",
     "shell.execute_reply": "2024-01-25T20:52:25.605612Z",
     "shell.execute_reply.started": "2024-01-25T20:52:21.567474Z"
    }
   },
   "outputs": [],
   "source": [
    "#Correlation map to see how features are correlated with SalePrice\n",
    "# choose cols that only contains number\n",
    "numeric_cols = train.select_dtypes(include='number')\n",
    "\n",
    "# then use this new col to do the next step\n",
    "corrmat = numeric_cols.corr()\n",
    "\n",
    "plt.subplots(figsize=(25,25))  #this step is very important, without it you will miss many figure.\n",
    "sns.heatmap(corrmat, vmax=0.9, square=True, annot=True)"
   ]
  },
  {
   "cell_type": "markdown",
   "metadata": {},
   "source": [
    "They are 'GarageYrBlt' and 'YearBuilt', 'GarageArea' and 'GarageCar', 'TotalBsmtSF' and '1stFlrSF', and 'TotRmsAbvGrd' and 'GrLivArea'. We keep the one of higher correlation with 'SalePrice' and delete the other. "
   ]
  },
  {
   "cell_type": "code",
   "execution_count": null,
   "metadata": {
    "execution": {
     "iopub.execute_input": "2024-01-25T20:52:25.608515Z",
     "iopub.status.busy": "2024-01-25T20:52:25.608193Z",
     "iopub.status.idle": "2024-01-25T20:52:25.618973Z",
     "shell.execute_reply": "2024-01-25T20:52:25.617663Z",
     "shell.execute_reply.started": "2024-01-25T20:52:25.608490Z"
    }
   },
   "outputs": [],
   "source": [
    "all_data.drop(['GarageYrBlt', 'GarageArea', '1stFlrSF', 'TotRmsAbvGrd'], axis = 1, inplace = True)\n",
    "print('Shape all_data: {}'.format(all_data.shape))"
   ]
  },
  {
   "cell_type": "markdown",
   "metadata": {},
   "source": [
    "# Step 6: Add new features."
   ]
  },
  {
   "cell_type": "code",
   "execution_count": null,
   "metadata": {
    "execution": {
     "iopub.execute_input": "2024-01-25T20:52:25.621369Z",
     "iopub.status.busy": "2024-01-25T20:52:25.620443Z",
     "iopub.status.idle": "2024-01-25T20:52:25.639816Z",
     "shell.execute_reply": "2024-01-25T20:52:25.638991Z",
     "shell.execute_reply.started": "2024-01-25T20:52:25.621341Z"
    }
   },
   "outputs": [],
   "source": [
    "# Adding total sqfootage feature \n",
    "all_data['TotalSF'] = all_data['TotalBsmtSF'] + all_data['GrLivArea']\n",
    "\n",
    "# Adding total number of bathrooms\n",
    "all_data['TotalBathrooms'] = all_data['FullBath'] + (all_data['HalfBath']*0.5) + all_data['BsmtFullBath'] + (all_data['BsmtHalfBath']*0.5)\n",
    "\n",
    "# Adding total outside sqfootage\n",
    "all_data['TotalOutsideSF'] = all_data['WoodDeckSF'] + all_data['OpenPorchSF'] + all_data['EnclosedPorch'] + all_data['3SsnPorch'] + all_data['ScreenPorch']\n",
    "\n",
    "# Adding a ratio feature\n",
    "all_data['LivLotRatio'] = all_data['GrLivArea'] / all_data['LotArea']\n",
    "\n",
    "# The value of a home often depends on how it compares to typical homes in its neighborhood. \n",
    "# Create a feature `MedNhbdArea` that describes the *median* of `GrLivArea` grouped on `Neighborhood`.\n",
    "all_data[\"MedNhbdArea\"] = all_data.groupby(\"Neighborhood\")[\"GrLivArea\"].transform(\"median\")"
   ]
  },
  {
   "cell_type": "markdown",
   "metadata": {},
   "source": [
    "# Step 7: Normalize all numerical variables."
   ]
  },
  {
   "cell_type": "code",
   "execution_count": null,
   "metadata": {
    "execution": {
     "iopub.execute_input": "2024-01-25T20:52:25.641978Z",
     "iopub.status.busy": "2024-01-25T20:52:25.640881Z",
     "iopub.status.idle": "2024-01-25T20:52:25.703218Z",
     "shell.execute_reply": "2024-01-25T20:52:25.702056Z",
     "shell.execute_reply.started": "2024-01-25T20:52:25.641942Z"
    }
   },
   "outputs": [],
   "source": [
    "numeric_feats = all_data.dtypes[all_data.dtypes != \"object\"].index\n",
    "\n",
    "# Check the skew of all numerical features\n",
    "skewed_feats = all_data[numeric_feats].apply(lambda x: skew(x.dropna())).sort_values(ascending=False)\n",
    "print(\"\\nSkew in numerical features: \\n\")\n",
    "skewness = pd.DataFrame({'Skew' :skewed_feats})\n",
    "skewness.head(10)"
   ]
  },
  {
   "cell_type": "markdown",
   "metadata": {},
   "source": [
    "Box Cox Transformation of (highly) skewed features https://onlinestatbook.com/2/transformations/box-cox.html"
   ]
  },
  {
   "cell_type": "code",
   "execution_count": null,
   "metadata": {
    "execution": {
     "iopub.execute_input": "2024-01-25T20:52:25.704653Z",
     "iopub.status.busy": "2024-01-25T20:52:25.704360Z",
     "iopub.status.idle": "2024-01-25T20:52:25.730812Z",
     "shell.execute_reply": "2024-01-25T20:52:25.729721Z",
     "shell.execute_reply.started": "2024-01-25T20:52:25.704629Z"
    }
   },
   "outputs": [],
   "source": [
    "skewness = skewness[abs(skewness) > 0.75]\n",
    "print(\"There are {} skewed numerical features to Box Cox transform\".format(skewness.shape[0]))\n",
    "\n",
    "from scipy.special import boxcox1p\n",
    "skewed_features = skewness.index\n",
    "lam = 0.15\n",
    "for feat in skewed_features:\n",
    "    all_data[feat] = boxcox1p(all_data[feat], lam)"
   ]
  },
  {
   "cell_type": "code",
   "execution_count": null,
   "metadata": {
    "execution": {
     "iopub.execute_input": "2024-01-25T20:52:25.732535Z",
     "iopub.status.busy": "2024-01-25T20:52:25.732170Z",
     "iopub.status.idle": "2024-01-25T20:52:25.761699Z",
     "shell.execute_reply": "2024-01-25T20:52:25.760416Z",
     "shell.execute_reply.started": "2024-01-25T20:52:25.732501Z"
    }
   },
   "outputs": [],
   "source": [
    "all_data = pd.get_dummies(all_data)\n",
    "print(all_data.shape)"
   ]
  },
  {
   "cell_type": "markdown",
   "metadata": {},
   "source": [
    "# Step 8: Blend models."
   ]
  },
  {
   "cell_type": "code",
   "execution_count": null,
   "metadata": {
    "execution": {
     "iopub.execute_input": "2024-01-25T20:52:25.763396Z",
     "iopub.status.busy": "2024-01-25T20:52:25.763087Z",
     "iopub.status.idle": "2024-01-25T20:52:25.768868Z",
     "shell.execute_reply": "2024-01-25T20:52:25.767828Z",
     "shell.execute_reply.started": "2024-01-25T20:52:25.763367Z"
    }
   },
   "outputs": [],
   "source": [
    "train = all_data[:ntrain]\n",
    "test = all_data[ntrain:]"
   ]
  },
  {
   "cell_type": "code",
   "execution_count": null,
   "metadata": {
    "execution": {
     "iopub.execute_input": "2024-01-25T20:52:25.770474Z",
     "iopub.status.busy": "2024-01-25T20:52:25.770147Z",
     "iopub.status.idle": "2024-01-25T20:52:25.780430Z",
     "shell.execute_reply": "2024-01-25T20:52:25.779638Z",
     "shell.execute_reply.started": "2024-01-25T20:52:25.770444Z"
    }
   },
   "outputs": [],
   "source": [
    "#Validation function\n",
    "n_folds = 5\n",
    "\n",
    "def rmsle_cv(model):\n",
    "    kf = KFold(n_folds, shuffle=True, random_state=42).get_n_splits(train.values)\n",
    "    rmse= np.sqrt(-cross_val_score(model, train.values, y_train, scoring=\"neg_mean_squared_error\", cv = kf))\n",
    "    return(rmse)"
   ]
  },
  {
   "cell_type": "code",
   "execution_count": null,
   "metadata": {
    "execution": {
     "iopub.execute_input": "2024-01-25T20:52:25.781779Z",
     "iopub.status.busy": "2024-01-25T20:52:25.781448Z",
     "iopub.status.idle": "2024-01-25T20:52:25.792954Z",
     "shell.execute_reply": "2024-01-25T20:52:25.792152Z",
     "shell.execute_reply.started": "2024-01-25T20:52:25.781734Z"
    }
   },
   "outputs": [],
   "source": [
    "# LASSO Regression\n",
    "lasso = make_pipeline(RobustScaler(), Lasso(alpha =0.0005, random_state=1))\n",
    "\n",
    "# Elastic Net Regression\n",
    "ENet = make_pipeline(RobustScaler(), ElasticNet(alpha=0.0005, l1_ratio=.9, random_state=3))\n",
    "\n",
    "# Kernel Ridge Regression\n",
    "KRR = make_pipeline(RobustScaler(), KernelRidge(alpha=0.6, kernel='polynomial', degree=2, coef0=2.5))\n",
    "\n",
    "# SVR\n",
    "svr = make_pipeline(RobustScaler(), SVR(C= 20, epsilon= 0.008, gamma=0.0003))\n",
    "\n",
    "# Gradient Boosting Regression\n",
    "GBoost = GradientBoostingRegressor(n_estimators=3000, learning_rate=0.05,\n",
    "                                   max_depth=4, max_features='sqrt',\n",
    "                                   min_samples_leaf=15, min_samples_split=10, \n",
    "                                   loss='huber', random_state =5)\n",
    "\n",
    "# XGBoost\n",
    "model_xgb = xgb.XGBRegressor(colsample_bytree=0.4603, gamma=0.0468, \n",
    "                             learning_rate=0.05, max_depth=3, \n",
    "                             min_child_weight=1.7817, n_estimators=2200,\n",
    "                             reg_alpha=0.4640, reg_lambda=0.8571,\n",
    "                             subsample=0.5213, silent=1,\n",
    "                             random_state =7, nthread = -1)\n",
    "\n",
    "# LightGBM\n",
    "model_lgb = lgb.LGBMRegressor(objective='regression',num_leaves=4,\n",
    "                                       learning_rate=0.01, \n",
    "                                       n_estimators=5000,\n",
    "                                       max_bin=200, \n",
    "                                       bagging_fraction=0.75,\n",
    "                                       bagging_freq=5, \n",
    "                                       bagging_seed=7,\n",
    "                                       feature_fraction=0.2,\n",
    "                                       feature_fraction_seed=7\n",
    "                              # min_data_in_leaf =6, min_sum_hessian_in_leaf = 11\n",
    "                             )"
   ]
  },
  {
   "cell_type": "code",
   "execution_count": null,
   "metadata": {
    "execution": {
     "iopub.execute_input": "2024-01-25T20:52:25.794247Z",
     "iopub.status.busy": "2024-01-25T20:52:25.793800Z",
     "iopub.status.idle": "2024-01-25T20:52:26.422102Z",
     "shell.execute_reply": "2024-01-25T20:52:26.420795Z",
     "shell.execute_reply.started": "2024-01-25T20:52:25.794222Z"
    }
   },
   "outputs": [],
   "source": [
    "score = rmsle_cv(lasso)\n",
    "print(\"\\nLasso score: {:.4f} ({:.4f})\\n\".format(score.mean(), score.std()))"
   ]
  },
  {
   "cell_type": "code",
   "execution_count": null,
   "metadata": {
    "execution": {
     "iopub.execute_input": "2024-01-25T20:52:26.440937Z",
     "iopub.status.busy": "2024-01-25T20:52:26.435886Z",
     "iopub.status.idle": "2024-01-25T20:52:27.189469Z",
     "shell.execute_reply": "2024-01-25T20:52:27.188739Z",
     "shell.execute_reply.started": "2024-01-25T20:52:26.440892Z"
    }
   },
   "outputs": [],
   "source": [
    "score = rmsle_cv(ENet)\n",
    "print(\"ElasticNet score: {:.4f} ({:.4f})\\n\".format(score.mean(), score.std()))"
   ]
  },
  {
   "cell_type": "code",
   "execution_count": null,
   "metadata": {
    "execution": {
     "iopub.execute_input": "2024-01-25T20:52:27.195515Z",
     "iopub.status.busy": "2024-01-25T20:52:27.193380Z",
     "iopub.status.idle": "2024-01-25T20:52:28.110367Z",
     "shell.execute_reply": "2024-01-25T20:52:28.109679Z",
     "shell.execute_reply.started": "2024-01-25T20:52:27.195483Z"
    }
   },
   "outputs": [],
   "source": [
    "score = rmsle_cv(KRR)\n",
    "print(\"Kernel Ridge score: {:.4f} ({:.4f})\\n\".format(score.mean(), score.std()))"
   ]
  },
  {
   "cell_type": "code",
   "execution_count": null,
   "metadata": {
    "execution": {
     "iopub.execute_input": "2024-01-25T20:52:28.112663Z",
     "iopub.status.busy": "2024-01-25T20:52:28.111663Z",
     "iopub.status.idle": "2024-01-25T20:52:29.331006Z",
     "shell.execute_reply": "2024-01-25T20:52:29.329872Z",
     "shell.execute_reply.started": "2024-01-25T20:52:28.112630Z"
    }
   },
   "outputs": [],
   "source": [
    "score = rmsle_cv(svr)\n",
    "print(\"SVR score: {:.4f} ({:.4f})\\n\".format(score.mean(), score.std()))"
   ]
  },
  {
   "cell_type": "code",
   "execution_count": null,
   "metadata": {
    "execution": {
     "iopub.execute_input": "2024-01-25T20:52:29.332407Z",
     "iopub.status.busy": "2024-01-25T20:52:29.332142Z",
     "iopub.status.idle": "2024-01-25T20:53:26.425030Z",
     "shell.execute_reply": "2024-01-25T20:53:26.423888Z",
     "shell.execute_reply.started": "2024-01-25T20:52:29.332383Z"
    }
   },
   "outputs": [],
   "source": [
    "score = rmsle_cv(GBoost)\n",
    "print(\"Gradient Boosting score: {:.4f} ({:.4f})\\n\".format(score.mean(), score.std()))"
   ]
  },
  {
   "cell_type": "code",
   "execution_count": null,
   "metadata": {
    "execution": {
     "iopub.execute_input": "2024-01-25T20:53:26.427625Z",
     "iopub.status.busy": "2024-01-25T20:53:26.426557Z",
     "iopub.status.idle": "2024-01-25T20:53:35.582606Z",
     "shell.execute_reply": "2024-01-25T20:53:35.581706Z",
     "shell.execute_reply.started": "2024-01-25T20:53:26.427578Z"
    }
   },
   "outputs": [],
   "source": [
    "score = rmsle_cv(model_xgb)\n",
    "print(\"Xgboost score: {:.4f} ({:.4f})\\n\".format(score.mean(), score.std()))"
   ]
  },
  {
   "cell_type": "code",
   "execution_count": null,
   "metadata": {
    "execution": {
     "iopub.execute_input": "2024-01-25T20:53:35.585133Z",
     "iopub.status.busy": "2024-01-25T20:53:35.583837Z",
     "iopub.status.idle": "2024-01-25T20:54:17.065188Z",
     "shell.execute_reply": "2024-01-25T20:54:17.063996Z",
     "shell.execute_reply.started": "2024-01-25T20:53:35.585098Z"
    }
   },
   "outputs": [],
   "source": [
    "score = rmsle_cv(model_lgb)\n",
    "print(\"LGBM score: {:.4f} ({:.4f})\\n\" .format(score.mean(), score.std()))"
   ]
  },
  {
   "cell_type": "markdown",
   "metadata": {},
   "source": [
    "Stacking models"
   ]
  },
  {
   "cell_type": "code",
   "execution_count": null,
   "metadata": {
    "execution": {
     "iopub.execute_input": "2024-01-25T20:54:17.066870Z",
     "iopub.status.busy": "2024-01-25T20:54:17.066520Z",
     "iopub.status.idle": "2024-01-25T21:05:20.346797Z",
     "shell.execute_reply": "2024-01-25T21:05:20.345929Z",
     "shell.execute_reply.started": "2024-01-25T20:54:17.066841Z"
    }
   },
   "outputs": [],
   "source": [
    "# Stacking Ensemble Machine Learning With Python, https://machinelearningmastery.com/stacking-ensemble-machine-learning-with-python/\n",
    "\n",
    "level0 = list()\n",
    "level0.append(('lasso', lasso))\n",
    "level0.append(('enet', ENet))\n",
    "level0.append(('krr', KRR))\n",
    "level0.append(('gboost', GBoost))\n",
    "level0.append(('xgb', model_xgb))\n",
    "level0.append(('lgbm', model_lgb))\n",
    "# define meta learner model\n",
    "level1 = model_xgb\n",
    "model = StackingRegressor(estimators=level0, final_estimator=level1, cv=5)\n",
    "\n",
    "score = rmsle_cv(model)\n",
    "print(\"Stacking Averaged models score: {:.4f} ({:.4f})\".format(score.mean(), score.std()))"
   ]
  },
  {
   "cell_type": "markdown",
   "metadata": {},
   "source": [
    "Ensembling all the models defined previously."
   ]
  },
  {
   "cell_type": "code",
   "execution_count": null,
   "metadata": {
    "execution": {
     "iopub.execute_input": "2024-01-25T21:05:20.348662Z",
     "iopub.status.busy": "2024-01-25T21:05:20.348153Z",
     "iopub.status.idle": "2024-01-25T21:05:20.353227Z",
     "shell.execute_reply": "2024-01-25T21:05:20.352439Z",
     "shell.execute_reply.started": "2024-01-25T21:05:20.348631Z"
    }
   },
   "outputs": [],
   "source": [
    "# We first define a rmsle evaluation function\n",
    "def rmsle(y, y_pred):\n",
    "    return np.sqrt(mean_squared_error(y, y_pred))"
   ]
  },
  {
   "cell_type": "code",
   "execution_count": null,
   "metadata": {
    "execution": {
     "iopub.execute_input": "2024-01-25T21:05:20.354875Z",
     "iopub.status.busy": "2024-01-25T21:05:20.354368Z",
     "iopub.status.idle": "2024-01-25T21:05:20.523733Z",
     "shell.execute_reply": "2024-01-25T21:05:20.523025Z",
     "shell.execute_reply.started": "2024-01-25T21:05:20.354846Z"
    }
   },
   "outputs": [],
   "source": [
    "# lasso\n",
    "lasso.fit(train.values, y_train)\n",
    "lasso_train_pred = lasso.predict(train.values)\n",
    "lasso_pred = np.expm1(lasso.predict(test.values))\n",
    "print(rmsle(y_train, lasso_train_pred))"
   ]
  },
  {
   "cell_type": "code",
   "execution_count": null,
   "metadata": {
    "execution": {
     "iopub.execute_input": "2024-01-25T21:05:20.529477Z",
     "iopub.status.busy": "2024-01-25T21:05:20.527355Z",
     "iopub.status.idle": "2024-01-25T21:05:20.713908Z",
     "shell.execute_reply": "2024-01-25T21:05:20.713225Z",
     "shell.execute_reply.started": "2024-01-25T21:05:20.529444Z"
    }
   },
   "outputs": [],
   "source": [
    "# enet\n",
    "ENet.fit(train.values, y_train)\n",
    "enet_train_pred = ENet.predict(train.values)\n",
    "enet_pred = np.expm1(ENet.predict(test.values))\n",
    "print(rmsle(y_train, enet_train_pred))"
   ]
  },
  {
   "cell_type": "code",
   "execution_count": null,
   "metadata": {
    "execution": {
     "iopub.execute_input": "2024-01-25T21:05:20.719692Z",
     "iopub.status.busy": "2024-01-25T21:05:20.717696Z",
     "iopub.status.idle": "2024-01-25T21:05:21.042766Z",
     "shell.execute_reply": "2024-01-25T21:05:21.041840Z",
     "shell.execute_reply.started": "2024-01-25T21:05:20.719663Z"
    }
   },
   "outputs": [],
   "source": [
    "# krr\n",
    "KRR.fit(train.values, y_train)\n",
    "krr_train_pred = KRR.predict(train.values)\n",
    "krr_pred = np.expm1(KRR.predict(test.values))\n",
    "print(rmsle(y_train, krr_train_pred))"
   ]
  },
  {
   "cell_type": "code",
   "execution_count": null,
   "metadata": {
    "execution": {
     "iopub.execute_input": "2024-01-25T21:05:21.057288Z",
     "iopub.status.busy": "2024-01-25T21:05:21.054516Z",
     "iopub.status.idle": "2024-01-25T21:05:22.249667Z",
     "shell.execute_reply": "2024-01-25T21:05:22.248828Z",
     "shell.execute_reply.started": "2024-01-25T21:05:21.057253Z"
    }
   },
   "outputs": [],
   "source": [
    "# svr\n",
    "svr.fit(train.values, y_train)\n",
    "svr_train_pred = svr.predict(train.values)\n",
    "svr_pred = np.expm1(svr.predict(test.values))\n",
    "print(rmsle(y_train, svr_train_pred))"
   ]
  },
  {
   "cell_type": "code",
   "execution_count": null,
   "metadata": {
    "execution": {
     "iopub.execute_input": "2024-01-25T21:05:22.251629Z",
     "iopub.status.busy": "2024-01-25T21:05:22.251063Z",
     "iopub.status.idle": "2024-01-25T21:05:34.757661Z",
     "shell.execute_reply": "2024-01-25T21:05:34.756828Z",
     "shell.execute_reply.started": "2024-01-25T21:05:22.251599Z"
    }
   },
   "outputs": [],
   "source": [
    "# gboost\n",
    "GBoost.fit(train.values, y_train)\n",
    "gboost_train_pred = GBoost.predict(train.values)\n",
    "gboost_pred = np.expm1(GBoost.predict(test.values))\n",
    "print(rmsle(y_train, gboost_train_pred))"
   ]
  },
  {
   "cell_type": "code",
   "execution_count": null,
   "metadata": {
    "execution": {
     "iopub.execute_input": "2024-01-25T21:05:34.759694Z",
     "iopub.status.busy": "2024-01-25T21:05:34.759105Z",
     "iopub.status.idle": "2024-01-25T21:07:56.028095Z",
     "shell.execute_reply": "2024-01-25T21:07:56.026846Z",
     "shell.execute_reply.started": "2024-01-25T21:05:34.759661Z"
    }
   },
   "outputs": [],
   "source": [
    "# scikit-learn StackingRegressor\n",
    "model.fit(train.values, y_train)\n",
    "stacking_train_pred = model.predict(train.values)\n",
    "stacking_pred = np.expm1(model.predict(test.values))\n",
    "print(rmsle(y_train, stacking_train_pred))"
   ]
  },
  {
   "cell_type": "code",
   "execution_count": null,
   "metadata": {
    "execution": {
     "iopub.execute_input": "2024-01-25T21:07:56.029812Z",
     "iopub.status.busy": "2024-01-25T21:07:56.029499Z",
     "iopub.status.idle": "2024-01-25T21:08:01.148899Z",
     "shell.execute_reply": "2024-01-25T21:08:01.147473Z",
     "shell.execute_reply.started": "2024-01-25T21:07:56.029789Z"
    }
   },
   "outputs": [],
   "source": [
    "# XGBoost\n",
    "model_xgb.fit(train, y_train)\n",
    "xgb_train_pred = model_xgb.predict(train)\n",
    "xgb_pred = np.expm1(model_xgb.predict(test))\n",
    "print(rmsle(y_train, xgb_train_pred))"
   ]
  },
  {
   "cell_type": "code",
   "execution_count": null,
   "metadata": {
    "execution": {
     "iopub.execute_input": "2024-01-25T21:08:01.150414Z",
     "iopub.status.busy": "2024-01-25T21:08:01.150163Z",
     "iopub.status.idle": "2024-01-25T21:08:09.460689Z",
     "shell.execute_reply": "2024-01-25T21:08:09.459800Z",
     "shell.execute_reply.started": "2024-01-25T21:08:01.150392Z"
    }
   },
   "outputs": [],
   "source": [
    "# LightGBM\n",
    "model_lgb.fit(train, y_train)\n",
    "lgb_train_pred = model_lgb.predict(train)\n",
    "lgb_pred = np.expm1(model_lgb.predict(test.values))\n",
    "print(rmsle(y_train, lgb_train_pred))"
   ]
  },
  {
   "cell_type": "code",
   "execution_count": null,
   "metadata": {
    "execution": {
     "iopub.execute_input": "2024-01-25T21:08:09.462299Z",
     "iopub.status.busy": "2024-01-25T21:08:09.462016Z",
     "iopub.status.idle": "2024-01-25T21:08:09.468559Z",
     "shell.execute_reply": "2024-01-25T21:08:09.467940Z",
     "shell.execute_reply.started": "2024-01-25T21:08:09.462274Z"
    }
   },
   "outputs": [],
   "source": [
    "'''RMSE on the entire Train data when averaging'''\n",
    "\n",
    "print('RMSLE score on train data:')\n",
    "print(rmsle(y_train, lasso_train_pred * 0.1 + \\\n",
    "                     enet_train_pred * 0.1 + \\\n",
    "                     krr_train_pred * 0.1 + \\\n",
    "                     svr_train_pred * 0.1 + \\\n",
    "                     gboost_train_pred * 0.1 + \\\n",
    "                     stacking_train_pred * 0.25 + \\\n",
    "                     xgb_train_pred * 0.15 + \\\n",
    "                     lgb_train_pred * 0.1 ))"
   ]
  },
  {
   "cell_type": "code",
   "execution_count": null,
   "metadata": {
    "execution": {
     "iopub.execute_input": "2024-01-25T21:08:09.470166Z",
     "iopub.status.busy": "2024-01-25T21:08:09.469681Z",
     "iopub.status.idle": "2024-01-25T21:08:09.484114Z",
     "shell.execute_reply": "2024-01-25T21:08:09.483355Z",
     "shell.execute_reply.started": "2024-01-25T21:08:09.470134Z"
    }
   },
   "outputs": [],
   "source": [
    "# Ensemble prediction\n",
    "ensemble = lasso_pred * 0.1 + \\\n",
    "           enet_pred * 0.1 + \\\n",
    "           krr_pred * 0.1 + \\\n",
    "           svr_pred * 0.1 + \\\n",
    "           gboost_pred * 0.1 + \\\n",
    "           stacking_pred * 0.25 + \\\n",
    "           xgb_pred * 0.15 + \\\n",
    "           lgb_pred * 0.1"
   ]
  },
  {
   "cell_type": "markdown",
   "metadata": {},
   "source": [
    "# Step 9: Submission."
   ]
  },
  {
   "cell_type": "code",
   "execution_count": null,
   "metadata": {
    "execution": {
     "iopub.execute_input": "2024-01-25T21:08:09.485889Z",
     "iopub.status.busy": "2024-01-25T21:08:09.485324Z",
     "iopub.status.idle": "2024-01-25T21:08:09.510052Z",
     "shell.execute_reply": "2024-01-25T21:08:09.509184Z",
     "shell.execute_reply.started": "2024-01-25T21:08:09.485849Z"
    }
   },
   "outputs": [],
   "source": [
    "sub = pd.DataFrame()\n",
    "sub['Id'] = test_ID\n",
    "sub['SalePrice'] = ensemble\n",
    "sub.to_csv('/kaggle/working/submission.csv',index=False)\n",
    "sub.head()"
   ]
  }
 ],
 "metadata": {
  "kaggle": {
   "accelerator": "none",
   "dataSources": [
    {
     "databundleVersionId": 868283,
     "sourceId": 5407,
     "sourceType": "competition"
    }
   ],
   "dockerImageVersionId": 30615,
   "isGpuEnabled": false,
   "isInternetEnabled": true,
   "language": "python",
   "sourceType": "notebook"
  },
  "kernelspec": {
   "display_name": "Python 3 (ipykernel)",
   "language": "python",
   "name": "python3"
  },
  "language_info": {
   "codemirror_mode": {
    "name": "ipython",
    "version": 3
   },
   "file_extension": ".py",
   "mimetype": "text/x-python",
   "name": "python",
   "nbconvert_exporter": "python",
   "pygments_lexer": "ipython3",
   "version": "3.10.9"
  }
 },
 "nbformat": 4,
 "nbformat_minor": 4
}
